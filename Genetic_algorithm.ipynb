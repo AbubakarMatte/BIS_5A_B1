{
  "nbformat": 4,
  "nbformat_minor": 0,
  "metadata": {
    "colab": {
      "provenance": []
    },
    "kernelspec": {
      "name": "python3",
      "display_name": "Python 3"
    },
    "language_info": {
      "name": "python"
    }
  },
  "cells": [
    {
      "cell_type": "code",
      "source": [
        "import numpy as np\n",
        "import random\n",
        "\n",
        "def objective_function(x):\n",
        "    return x ** 2\n",
        "\n",
        "population_size = 100\n",
        "num_generations = 50\n",
        "mutation_rate = 0.1\n",
        "x_bounds = (-10, 10)\n",
        "crossover_rate = 0.7\n",
        "population = np.random.uniform(x_bounds[0], x_bounds[1], population_size)\n",
        "best_solutions = []\n",
        "\n",
        "for generation in range(num_generations):\n",
        "    fitness = objective_function(population)\n",
        "    parents_indices = np.random.choice(population_size, size=2, p=fitness/fitness.sum())\n",
        "    parent1, parent2 = population[parents_indices]\n",
        "    if random.random() < crossover_rate:\n",
        "        alpha = random.random()\n",
        "        child1 = alpha * parent1 + (1 - alpha) * parent2\n",
        "        child2 = (1 - alpha) * parent1 + alpha * parent2\n",
        "    else:\n",
        "        child1, child2 = parent1, parent2\n",
        "    if random.random() < mutation_rate:\n",
        "        child1 = np.random.uniform(x_bounds[0], x_bounds[1])\n",
        "    if random.random() < mutation_rate:\n",
        "        child2 = np.random.uniform(x_bounds[0], x_bounds[1])\n",
        "    population[np.random.choice(population_size, size=2)] = child1, child2\n",
        "    best_index = np.argmax(fitness)\n",
        "    best_solution = population[best_index]\n",
        "    best_value = objective_function(best_solution)\n",
        "    best_solutions.append((best_solution, best_value))\n",
        "    print(f\"Generation {generation + 1}: Best solution (x): {best_solution}, Maximum value (f(x)): {best_value}\")\n",
        "\n",
        "final_best_index = np.argmax(objective_function(population))\n",
        "final_best_solution = population[final_best_index]\n",
        "final_best_value = objective_function(final_best_solution)\n",
        "\n",
        "print(f\"\\nFinal Best solution (x): {final_best_solution}, Maximum value (f(x)): {final_best_value}\")\n"
      ],
      "metadata": {
        "colab": {
          "base_uri": "https://localhost:8080/"
        },
        "id": "bIqxnEjteEhr",
        "outputId": "ba4fae36-a56c-4526-9d0d-9e7b1098210b"
      },
      "execution_count": null,
      "outputs": [
        {
          "output_type": "stream",
          "name": "stdout",
          "text": [
            "Generation 1: Best solution (x): -9.997607508222469, Maximum value (f(x)): 99.95215588846628\n",
            "Generation 2: Best solution (x): -9.997607508222469, Maximum value (f(x)): 99.95215588846628\n",
            "Generation 3: Best solution (x): -9.997607508222469, Maximum value (f(x)): 99.95215588846628\n",
            "Generation 4: Best solution (x): -9.997607508222469, Maximum value (f(x)): 99.95215588846628\n",
            "Generation 5: Best solution (x): -9.997607508222469, Maximum value (f(x)): 99.95215588846628\n",
            "Generation 6: Best solution (x): 2.2476899132258943, Maximum value (f(x)): 5.052109946017429\n",
            "Generation 7: Best solution (x): 9.942211490806159, Maximum value (f(x)): 98.84756932791802\n",
            "Generation 8: Best solution (x): 9.942211490806159, Maximum value (f(x)): 98.84756932791802\n",
            "Generation 9: Best solution (x): 9.942211490806159, Maximum value (f(x)): 98.84756932791802\n",
            "Generation 10: Best solution (x): 9.942211490806159, Maximum value (f(x)): 98.84756932791802\n",
            "Generation 11: Best solution (x): 9.942211490806159, Maximum value (f(x)): 98.84756932791802\n",
            "Generation 12: Best solution (x): 9.942211490806159, Maximum value (f(x)): 98.84756932791802\n",
            "Generation 13: Best solution (x): 2.8367012136955445, Maximum value (f(x)): 8.046873775781775\n",
            "Generation 14: Best solution (x): -9.785296068867215, Maximum value (f(x)): 95.75201915538817\n",
            "Generation 15: Best solution (x): -9.785296068867215, Maximum value (f(x)): 95.75201915538817\n",
            "Generation 16: Best solution (x): -9.785296068867215, Maximum value (f(x)): 95.75201915538817\n",
            "Generation 17: Best solution (x): -9.785296068867215, Maximum value (f(x)): 95.75201915538817\n",
            "Generation 18: Best solution (x): -9.785296068867215, Maximum value (f(x)): 95.75201915538817\n",
            "Generation 19: Best solution (x): -9.785296068867215, Maximum value (f(x)): 95.75201915538817\n",
            "Generation 20: Best solution (x): 7.093244276620904, Maximum value (f(x)): 50.314114367815215\n",
            "Generation 21: Best solution (x): -9.785296068867215, Maximum value (f(x)): 95.75201915538817\n",
            "Generation 22: Best solution (x): -9.785296068867215, Maximum value (f(x)): 95.75201915538817\n",
            "Generation 23: Best solution (x): -9.785296068867215, Maximum value (f(x)): 95.75201915538817\n",
            "Generation 24: Best solution (x): -9.785296068867215, Maximum value (f(x)): 95.75201915538817\n",
            "Generation 25: Best solution (x): -9.785296068867215, Maximum value (f(x)): 95.75201915538817\n",
            "Generation 26: Best solution (x): -9.785296068867215, Maximum value (f(x)): 95.75201915538817\n",
            "Generation 27: Best solution (x): -9.785296068867215, Maximum value (f(x)): 95.75201915538817\n",
            "Generation 28: Best solution (x): -9.785296068867215, Maximum value (f(x)): 95.75201915538817\n",
            "Generation 29: Best solution (x): -9.785296068867215, Maximum value (f(x)): 95.75201915538817\n",
            "Generation 30: Best solution (x): -4.697038835152206, Maximum value (f(x)): 22.06217381892799\n",
            "Generation 31: Best solution (x): -9.785296068867215, Maximum value (f(x)): 95.75201915538817\n",
            "Generation 32: Best solution (x): -9.785296068867215, Maximum value (f(x)): 95.75201915538817\n",
            "Generation 33: Best solution (x): -9.785296068867215, Maximum value (f(x)): 95.75201915538817\n",
            "Generation 34: Best solution (x): -9.785296068867215, Maximum value (f(x)): 95.75201915538817\n",
            "Generation 35: Best solution (x): -9.785296068867215, Maximum value (f(x)): 95.75201915538817\n",
            "Generation 36: Best solution (x): -9.785296068867215, Maximum value (f(x)): 95.75201915538817\n",
            "Generation 37: Best solution (x): -9.785296068867215, Maximum value (f(x)): 95.75201915538817\n",
            "Generation 38: Best solution (x): -9.785296068867215, Maximum value (f(x)): 95.75201915538817\n",
            "Generation 39: Best solution (x): -9.785296068867215, Maximum value (f(x)): 95.75201915538817\n",
            "Generation 40: Best solution (x): -9.785296068867215, Maximum value (f(x)): 95.75201915538817\n",
            "Generation 41: Best solution (x): -9.785296068867215, Maximum value (f(x)): 95.75201915538817\n",
            "Generation 42: Best solution (x): -9.785296068867215, Maximum value (f(x)): 95.75201915538817\n",
            "Generation 43: Best solution (x): -9.785296068867215, Maximum value (f(x)): 95.75201915538817\n",
            "Generation 44: Best solution (x): -9.785296068867215, Maximum value (f(x)): 95.75201915538817\n",
            "Generation 45: Best solution (x): -9.785296068867215, Maximum value (f(x)): 95.75201915538817\n",
            "Generation 46: Best solution (x): -9.785296068867215, Maximum value (f(x)): 95.75201915538817\n",
            "Generation 47: Best solution (x): 4.404616252476915, Maximum value (f(x)): 19.40064433158378\n",
            "Generation 48: Best solution (x): 9.768939332907209, Maximum value (f(x)): 95.43217569002154\n",
            "Generation 49: Best solution (x): 9.768939332907209, Maximum value (f(x)): 95.43217569002154\n",
            "Generation 50: Best solution (x): 9.768939332907209, Maximum value (f(x)): 95.43217569002154\n",
            "\n",
            "Final Best solution (x): 9.768939332907209, Maximum value (f(x)): 95.43217569002154\n"
          ]
        }
      ]
    },
    {
      "cell_type": "code",
      "source": [],
      "metadata": {
        "id": "t3qcatpcmlv_"
      },
      "execution_count": null,
      "outputs": []
    }
  ]
}